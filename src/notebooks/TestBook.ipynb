{
 "cells": [
  {
   "cell_type": "code",
   "execution_count": 9,
   "metadata": {},
   "outputs": [],
   "source": [
    "import tensorflow as tf\n",
    "import PIL\n",
    "import json"
   ]
  },
  {
   "cell_type": "code",
   "execution_count": 20,
   "metadata": {},
   "outputs": [
    {
     "name": "stdout",
     "output_type": "stream",
     "text": [
      "Found 21473 files belonging to 1 classes.\n"
     ]
    }
   ],
   "source": [
    "labels = json.load(open(\"../../data_meta/age/meta.json\"))\n",
    "ds: tf.data.Dataset = tf.keras.utils.image_dataset_from_directory(\n",
    "            \"../../data/\",\n",
    "            seed=123,\n",
    "            shuffle=False,\n",
    "            image_size=(224, 224),\n",
    "            batch_size=1,\n",
    "            labels=labels,\n",
    "        )  # type: ignore"
   ]
  }
 ],
 "metadata": {
  "kernelspec": {
   "display_name": ".env",
   "language": "python",
   "name": "python3"
  },
  "language_info": {
   "codemirror_mode": {
    "name": "ipython",
    "version": 3
   },
   "file_extension": ".py",
   "mimetype": "text/x-python",
   "name": "python",
   "nbconvert_exporter": "python",
   "pygments_lexer": "ipython3",
   "version": "3.9.5"
  },
  "orig_nbformat": 4,
  "vscode": {
   "interpreter": {
    "hash": "a83c0f910dbfcbd19468ec888d5b427a34e5a43e434fc22f4c637efaf31b4d30"
   }
  }
 },
 "nbformat": 4,
 "nbformat_minor": 2
}
