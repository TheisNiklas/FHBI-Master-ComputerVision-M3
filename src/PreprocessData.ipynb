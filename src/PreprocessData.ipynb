{
 "cells": [
  {
   "cell_type": "code",
   "execution_count": null,
   "metadata": {},
   "outputs": [],
   "source": [
    "import tensorflow as tf\n",
    "import os\n",
    "import json\n",
    "import pandas as pd\n",
    "import numpy as np\n",
    "from pathlib import Path"
   ]
  },
  {
   "cell_type": "code",
   "execution_count": null,
   "metadata": {},
   "outputs": [],
   "source": [
    "walk = os.walk(\"../data/age/\")"
   ]
  },
  {
   "cell_type": "code",
   "execution_count": null,
   "metadata": {},
   "outputs": [],
   "source": [
    "ageList = list()\n",
    "for _, _, files in walk:\n",
    "    filteredFiles = [ fi for fi in files if fi.endswith(\".jpg\") ]\n",
    "    notfilteredFiles = [ fi for fi in files if not fi.endswith(\".jpg\") ]\n",
    "    for file in filteredFiles:\n",
    "        fileParts = file.split(\"_\")\n",
    "        ageList.append(int(fileParts[0]))"
   ]
  },
  {
   "cell_type": "code",
   "execution_count": null,
   "metadata": {},
   "outputs": [],
   "source": [
    "f = open(\"../data_meta/age/meta.json\", \"w\")\n",
    "f.write(json.dumps(ageList))\n",
    "f.close()"
   ]
  },
  {
   "cell_type": "code",
   "execution_count": null,
   "metadata": {},
   "outputs": [],
   "source": [
    "image_dir = Path(\"../data/age/\")\n",
    "filepaths = pd.Series(list(image_dir.glob(r'**/*.jpg')), name='Filepath').astype(str)\n",
    "ages = pd.Series(filepaths.apply(lambda x: (os.path.split(x)[1]).split(\"_\")[0]), name='Age').astype(str)\n",
    "\n",
    "images = pd.concat([filepaths, ages], axis=1).sample(frac=1.0, random_state=1).reset_index(drop=True)"
   ]
  },
  {
   "cell_type": "code",
   "execution_count": null,
   "metadata": {},
   "outputs": [],
   "source": [
    "images.to_json(\"../data_meta/age/meta_full_str.json\")"
   ]
  },
  {
   "attachments": {},
   "cell_type": "markdown",
   "metadata": {},
   "source": [
    "## depricated"
   ]
  },
  {
   "cell_type": "code",
   "execution_count": null,
   "metadata": {},
   "outputs": [],
   "source": [
    "image_dir = Path(\"../data/age/\")\n",
    "filepaths = pd.Series(list(image_dir.glob(r'**/*.jpg')), name='Filepath').astype(str)\n",
    "ages = pd.Series(filepaths.apply(lambda x: (os.path.split(x)[1]).split(\"_\")[0]), name='Age').astype(int)\n",
    "agesBin = pd.get_dummies(ages)\n",
    "agesBin[94] = 0\n",
    "agesBin[97] = 0\n",
    "agesBin[98] = 0\n",
    "cols = agesBin.columns.to_list()\n",
    "cols = cols[:88] + [cols[92]] + cols[88:90] + cols[93:95] + cols[90:92]\n",
    "agesBin = agesBin[cols]\n",
    "agesBin[\"Age\"] = agesBin.values.tolist()\n",
    "\n",
    "\n",
    "images = pd.concat([filepaths, agesBin[\"Age\"]], axis=1)\n",
    "images = images[images[\"Filepath\"].notnull()]\n",
    "\n",
    "images.to_json(\"../data_meta/age/meta_full_bin.json\")"
   ]
  },
  {
   "cell_type": "code",
   "execution_count": null,
   "metadata": {},
   "outputs": [],
   "source": [
    "def group_ages(age, current_range: tuple[int, int]):\n",
    "    if isinstance(age, int) and age >= current_range[0] and age <= current_range[1]:\n",
    "        return f'{current_range[0]}-{current_range[1]}'\n",
    "    else:\n",
    "        return age\n",
    "ranges = [\n",
    "    ( 6,10),\n",
    "    (11,15),\n",
    "    (16,19),\n",
    "    (21,25),\n",
    "    (26,30),\n",
    "    (31,35),\n",
    "    (36,40),\n",
    "    (41,45),\n",
    "    (46,50),\n",
    "    (51,55),\n",
    "    (56,60),\n",
    "    (61,65),\n",
    "    (66,70),\n",
    "    (71,75),\n",
    "    (76,80),\n",
    "    (81,85),\n",
    "    (86,90),\n",
    "    (91,95),\n",
    "    (96,100),\n",
    "]\n",
    "    \n",
    "image_dir = Path(\"../data/age/\")\n",
    "filepaths = pd.Series(list(image_dir.glob(r'**/*.jpg')), name='Filepath').astype(str)\n",
    "ages = pd.Series(filepaths.apply(lambda x: (os.path.split(x)[1]).split(\"_\")[0]), name='Age').astype(int)\n",
    "for current_range in ranges:\n",
    "    ages = ages.apply(lambda x: group_ages(x, current_range))\n",
    "\n",
    "images = pd.concat([filepaths, ages], axis=1).sample(frac=1.0, random_state=1).reset_index(drop=True)\n",
    "\n",
    "images.to_json(\"../data_meta/age/meta_full_str_grouped.json\")"
   ]
  },
  {
   "cell_type": "code",
   "execution_count": null,
   "metadata": {},
   "outputs": [],
   "source": [
    "image_dir = Path(\"../data/age_crop/\")\n",
    "filepaths = pd.Series(list(image_dir.glob(r'**/*.jpg')), name='Filepath').astype(str)\n",
    "ages = pd.Series(filepaths.apply(lambda x: (os.path.split(x)[1]).split(\"_\")[0]), name='Age').astype(int)\n",
    "\n",
    "images = pd.concat([filepaths, ages], axis=1).sample(frac=1.0, random_state=1).reset_index(drop=True)\n",
    "\n",
    "images.to_json(\"../data_meta/age_crop/meta_full.json\")"
   ]
  },
  {
   "cell_type": "code",
   "execution_count": null,
   "metadata": {},
   "outputs": [],
   "source": [
    "image_dir = Path(\"../data/age_crop/\")\n",
    "filepaths = pd.Series(list(image_dir.glob(r'**/*.jpg')), name='Filepath').astype(str)\n",
    "ages = pd.Series(filepaths.apply(lambda x: (os.path.split(x)[1]).split(\"_\")[0]), name='Age').astype(str)\n",
    "\n",
    "images = pd.concat([filepaths, ages], axis=1).sample(frac=1.0, random_state=1).reset_index(drop=True)\n",
    "\n",
    "images.to_json(\"../data_meta/age_crop/meta_full_str.json\")"
   ]
  },
  {
   "cell_type": "code",
   "execution_count": null,
   "metadata": {},
   "outputs": [],
   "source": [
    "def group_ages(age, current_range: tuple[int, int]):\n",
    "    if isinstance(age, int) and age >= current_range[0] and age <= current_range[1]:\n",
    "        return f'{current_range[0]}-{current_range[1]}'\n",
    "    else:\n",
    "        return age\n",
    "ranges = [\n",
    "    ( 0,5 ),\n",
    "    ( 6,10),\n",
    "    (11,15),\n",
    "    (16,19),\n",
    "    (21,25),\n",
    "    (26,30),\n",
    "    (31,35),\n",
    "    (36,40),\n",
    "    (41,45),\n",
    "    (46,50),\n",
    "    (51,55),\n",
    "    (56,60),\n",
    "    (61,65),\n",
    "    (66,70),\n",
    "    (71,75),\n",
    "    (76,80),\n",
    "    (81,85),\n",
    "    (86,90),\n",
    "    (91,95),\n",
    "    (96,100),\n",
    "]\n",
    "    \n",
    "image_dir = Path(\"../data/age_crop/\")\n",
    "filepaths = pd.Series(list(image_dir.glob(r'**/*.jpg')), name='Filepath').astype(str)\n",
    "ages = pd.Series(filepaths.apply(lambda x: (os.path.split(x)[1]).split(\"_\")[0]), name='Age').astype(int)\n",
    "for current_range in ranges:\n",
    "    ages = ages.apply(lambda x: group_ages(x, current_range))\n",
    "\n",
    "images = pd.concat([filepaths, ages], axis=1).sample(frac=1.0, random_state=1).reset_index(drop=True)\n",
    "\n",
    "images.to_json(\"../data_meta/age_crop/meta_full_str_grouped.json\")"
   ]
  },
  {
   "cell_type": "code",
   "execution_count": null,
   "metadata": {},
   "outputs": [],
   "source": [
    "def group_ages(age: int, current_range: tuple[int, int]):\n",
    "    if isinstance(age, int) and age >= current_range[0] and age <= current_range[1]:\n",
    "        return ranges.index(current_range)\n",
    "    else:\n",
    "        return age\n",
    "ranges = [\n",
    "    ( 0, 0),\n",
    "    ( 1,10),\n",
    "    (11,20),\n",
    "    (21,30),\n",
    "    (31,40),\n",
    "    (41,50),\n",
    "    (51,60),\n",
    "    (61,70),\n",
    "    (71,80),\n",
    "    (81,90),\n",
    "    (91,100)\n",
    "]\n",
    "    \n",
    "image_dir_age = Path(\"../data/age/\")\n",
    "image_dir_mask = Path(\"../data/mask/\")\n",
    "image_dir_face_face = Path(\"../data/face/face/\")\n",
    "image_dir_face_no_face = Path(\"../data/face/no_face/\")\n",
    "\n",
    "filepathsAge = pd.Series(list(image_dir_age.glob(r'**/*.jpg')), name='Filepath').astype(str)\n",
    "agesAge = pd.Series(filepathsAge.apply(lambda x: (os.path.split(x)[1]).split(\"_\")[0]), name='Age').astype(int)\n",
    "for current_range in ranges:\n",
    "    agesAge = agesAge.apply(lambda x: group_ages(x, current_range)).astype(int)\n",
    "    \n",
    "hasFaceAge = pd.Series(np.ones(filepathsAge.shape), name=\"Face\").astype(int)\n",
    "hasMaskAge = pd.Series(np.zeros(filepathsAge.shape), name=\"Mask\").astype(int)\n",
    "\n",
    "filepathsMask = pd.Series(list(image_dir_mask.glob(r'**/*.png')), name='Filepath').astype(str)\n",
    "agesMask = pd.Series(np.zeros(filepathsMask.__len__()), name=\"Age\").astype(int)\n",
    "hasFaceMask = pd.Series(np.ones(filepathsMask.__len__()), name=\"Face\").astype(int)\n",
    "hasMaskMask = pd.Series(np.ones(filepathsMask.__len__()), name=\"Mask\").astype(int)\n",
    "\n",
    "filepathsFaceFace = pd.Series(list(image_dir_face_face.glob(r'**/*.jpg')), name='Filepath').astype(str)\n",
    "agesFaceFace = pd.Series(np.zeros(filepathsFaceFace.__len__()), name=\"Age\").astype(int)\n",
    "hasFaceFaceFace = pd.Series(np.ones(filepathsFaceFace.__len__()), name=\"Face\").astype(int)\n",
    "hasMaskFaceFace = pd.Series(np.zeros(filepathsFaceFace.__len__()), name=\"Mask\").astype(int)\n",
    "\n",
    "filepathsFaceNoFace = pd.Series(list(image_dir_face_no_face.glob(r'**/*.jpg')), name='Filepath').astype(str)\n",
    "agesFaceNoFace = pd.Series(np.zeros(filepathsFaceNoFace.__len__()), name=\"Age\").astype(int)\n",
    "hasFaceFaceNoFace = pd.Series(np.zeros(filepathsFaceNoFace.__len__()), name=\"Face\").astype(int)\n",
    "hasMaskFaceNoFace = pd.Series(np.zeros(filepathsFaceNoFace.__len__()), name=\"Mask\").astype(int)\n",
    "\n",
    "filePaths = pd.concat([filepathsAge, filepathsMask, filepathsFaceFace, filepathsFaceNoFace]).astype(str).reset_index(drop=True)\n",
    "ages = pd.concat([agesAge, agesMask, agesFaceFace, agesFaceNoFace]).astype(int).reset_index(drop=True)\n",
    "hasFace = pd.concat([hasFaceAge, hasFaceMask, hasFaceFaceFace, hasFaceFaceNoFace]).astype(int).reset_index(drop=True)\n",
    "hasMask = pd.concat([hasMaskAge, hasMaskMask, hasMaskFaceFace, hasMaskFaceNoFace]).astype(int).reset_index(drop=True)\n",
    "\n",
    "images = pd.concat([filePaths, ages, hasFace, hasMask], axis=1)\n",
    "\n",
    "#images.to_json(\"../data_meta/meta_all.json\")\n",
    "\n",
    "decodeDict = {\n",
    "    \"Age\": [age.__str__() for age in ranges]\n",
    "}\n",
    "#json.dump(decodeDict ,open(\"../data_meta/meta_all_decode.json\", \"w\"))"
   ]
  },
  {
   "cell_type": "code",
   "execution_count": 8,
   "metadata": {},
   "outputs": [],
   "source": [
    "def group_ages(age: int, current_range: tuple[int, int]):\n",
    "    if isinstance(age, int) and age >= current_range[0] and age <= current_range[1]:\n",
    "        return ranges.index(current_range)\n",
    "    else:\n",
    "        return age\n",
    "ranges = [\n",
    "    ( 0, 0),\n",
    "    ( 1,10),\n",
    "    (11,20),\n",
    "    (21,30),\n",
    "    (31,40),\n",
    "    (41,50),\n",
    "    (51,60),\n",
    "    (61,70),\n",
    "    (71,80),\n",
    "    (81,90),\n",
    "    (91,100)\n",
    "]\n",
    "    \n",
    "image_dir_age = Path(\"../data/age/\")\n",
    "image_dir_mask = Path(\"../data/mask/\")\n",
    "image_dir_face_face = Path(\"../data/face/face/\")\n",
    "image_dir_face_no_face = Path(\"../data/face/no_face/\")\n",
    "\n",
    "filepathsAge = pd.Series(list(image_dir_age.glob(r'**/*.jpg')), name='Filepath').astype(str)\n",
    "agesAge = pd.Series(filepathsAge.apply(lambda x: (os.path.split(x)[1]).split(\"_\")[0]), name='Age').astype(int)\n",
    "for current_range in ranges:\n",
    "    agesAge = agesAge.apply(lambda x: group_ages(x, current_range)).astype(str)\n",
    "    \n",
    "hasFaceAge = pd.Series(np.ones(filepathsAge.shape), name=\"Face\").astype(str)\n",
    "hasMaskAge = pd.Series(np.zeros(filepathsAge.shape), name=\"Mask\").astype(str)\n",
    "\n",
    "filepathsMask = pd.Series(list(image_dir_mask.glob(r'**/*.png')), name='Filepath').astype(str)\n",
    "agesMask = pd.Series(np.zeros(filepathsMask.__len__()), name=\"Age\").astype(str)\n",
    "hasFaceMask = pd.Series(np.ones(filepathsMask.__len__()), name=\"Face\").astype(str)\n",
    "hasMaskMask = pd.Series(np.ones(filepathsMask.__len__()), name=\"Mask\").astype(str)\n",
    "\n",
    "filepathsFaceFace = pd.Series(list(image_dir_face_face.glob(r'**/*.jpg')), name='Filepath').astype(str)\n",
    "agesFaceFace = pd.Series(np.zeros(filepathsFaceFace.__len__()), name=\"Age\").astype(str)\n",
    "hasFaceFaceFace = pd.Series(np.ones(filepathsFaceFace.__len__()), name=\"Face\").astype(str)\n",
    "hasMaskFaceFace = pd.Series(np.zeros(filepathsFaceFace.__len__()), name=\"Mask\").astype(str)\n",
    "\n",
    "filepathsFaceNoFace = pd.Series(list(image_dir_face_no_face.glob(r'**/*.jpg')), name='Filepath').astype(str)\n",
    "agesFaceNoFace = pd.Series(np.zeros(filepathsFaceNoFace.__len__()), name=\"Age\").astype(str)\n",
    "hasFaceFaceNoFace = pd.Series(np.zeros(filepathsFaceNoFace.__len__()), name=\"Face\").astype(str)\n",
    "hasMaskFaceNoFace = pd.Series(np.zeros(filepathsFaceNoFace.__len__()), name=\"Mask\").astype(str)\n",
    "\n",
    "filePaths = pd.concat([filepathsAge, filepathsMask, filepathsFaceFace, filepathsFaceNoFace]).astype(str).reset_index(drop=True)\n",
    "ages = pd.concat([agesAge, agesMask, agesFaceFace, agesFaceNoFace]).astype(str).reset_index(drop=True)\n",
    "hasFace = pd.concat([hasFaceAge, hasFaceMask, hasFaceFaceFace, hasFaceFaceNoFace]).astype(str).reset_index(drop=True)\n",
    "hasMask = pd.concat([hasMaskAge, hasMaskMask, hasMaskFaceFace, hasMaskFaceNoFace]).astype(str).reset_index(drop=True)\n",
    "\n",
    "images = pd.concat([filePaths, ages, hasFace, hasMask], axis=1)\n",
    "\n",
    "images.to_json(\"../data_meta/meta_all_str.json\")\n",
    "\n",
    "decodeDict = {\n",
    "    \"Age\": [age.__str__() for age in ranges]\n",
    "}\n",
    "json.dump(decodeDict ,open(\"../data_meta/meta_all_str_decode.json\", \"w\"))"
   ]
  },
  {
   "cell_type": "code",
   "execution_count": 9,
   "metadata": {},
   "outputs": [
    {
     "data": {
      "text/plain": [
       "0        100\n",
       "1        100\n",
       "2        100\n",
       "3        100\n",
       "4        100\n",
       "        ... \n",
       "21468      9\n",
       "21469      9\n",
       "21470      9\n",
       "21471      9\n",
       "21472      9\n",
       "Name: Age, Length: 21473, dtype: object"
      ]
     },
     "execution_count": 9,
     "metadata": {},
     "output_type": "execute_result"
    }
   ],
   "source": [
    "agesAge"
   ]
  }
 ],
 "metadata": {
  "kernelspec": {
   "display_name": ".env",
   "language": "python",
   "name": "python3"
  },
  "language_info": {
   "codemirror_mode": {
    "name": "ipython",
    "version": 3
   },
   "file_extension": ".py",
   "mimetype": "text/x-python",
   "name": "python",
   "nbconvert_exporter": "python",
   "pygments_lexer": "ipython3",
   "version": "3.9.5 (tags/v3.9.5:0a7dcbd, May  3 2021, 17:27:52) [MSC v.1928 64 bit (AMD64)]"
  },
  "orig_nbformat": 4,
  "vscode": {
   "interpreter": {
    "hash": "a83c0f910dbfcbd19468ec888d5b427a34e5a43e434fc22f4c637efaf31b4d30"
   }
  }
 },
 "nbformat": 4,
 "nbformat_minor": 2
}
