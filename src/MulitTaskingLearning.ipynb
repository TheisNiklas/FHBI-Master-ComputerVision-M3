{
 "cells": [
  {
   "cell_type": "code",
   "execution_count": 1,
   "metadata": {},
   "outputs": [],
   "source": [
    "import tensorflow as tf\n",
    "from utils.modelLoader import ModelLoader\n",
    "import pandas as pd\n",
    "from utils.utilities import buildRunName\n"
   ]
  },
  {
   "cell_type": "code",
   "execution_count": 22,
   "metadata": {},
   "outputs": [
    {
     "ename": "KeyError",
     "evalue": "'[1, 2, 3, 4, 5] not in index'",
     "output_type": "error",
     "traceback": [
      "\u001b[1;31m---------------------------------------------------------------------------\u001b[0m",
      "\u001b[1;31mKeyError\u001b[0m                                  Traceback (most recent call last)",
      "Cell \u001b[1;32mIn[22], line 3\u001b[0m\n\u001b[0;32m      1\u001b[0m metaData \u001b[39m=\u001b[39m pd\u001b[39m.\u001b[39mread_json(\u001b[39m\"\u001b[39m\u001b[39m../data_meta/meta_all_str.json\u001b[39m\u001b[39m\"\u001b[39m)\n\u001b[0;32m      2\u001b[0m temp \u001b[39m=\u001b[39m pd\u001b[39m.\u001b[39mDataFrame(pd\u001b[39m.\u001b[39mget_dummies(metaData[\u001b[39m\"\u001b[39m\u001b[39mAge\u001b[39m\u001b[39m\"\u001b[39m]))\n\u001b[1;32m----> 3\u001b[0m temp[\u001b[39m\"\u001b[39m\u001b[39mcombined\u001b[39m\u001b[39m\"\u001b[39m] \u001b[39m=\u001b[39m temp[[\u001b[39m0\u001b[39;49m,\u001b[39m1\u001b[39;49m,\u001b[39m2\u001b[39;49m,\u001b[39m3\u001b[39;49m,\u001b[39m4\u001b[39;49m,\u001b[39m5\u001b[39;49m,\u001b[39m6\u001b[39;49m,\u001b[39m7\u001b[39;49m,\u001b[39m8\u001b[39;49m,\u001b[39m9\u001b[39;49m,\u001b[39m10\u001b[39;49m]]\u001b[39m.\u001b[39mvalues\u001b[39m.\u001b[39mtolist()\n\u001b[0;32m      4\u001b[0m metaData[\u001b[39m\"\u001b[39m\u001b[39mAge\u001b[39m\u001b[39m\"\u001b[39m] \u001b[39m=\u001b[39m temp[\u001b[39m\"\u001b[39m\u001b[39mcombined\u001b[39m\u001b[39m\"\u001b[39m]\n\u001b[0;32m      5\u001b[0m \u001b[39m# metaData[\"Age\"] = metaData[\"Age\"].astype(str)\u001b[39;00m\n\u001b[0;32m      6\u001b[0m \u001b[39m# metaData[\"Mask\"] = metaData[\"Mask\"].astype(str)\u001b[39;00m\n\u001b[0;32m      7\u001b[0m \u001b[39m# metaData[\"Face\"] = metaData[\"Face\"].astype(str)\u001b[39;00m\n\u001b[1;32m   (...)\u001b[0m\n\u001b[0;32m     23\u001b[0m \n\u001b[0;32m     24\u001b[0m \u001b[39m# dataset = dataset.map(_parse_function)\u001b[39;00m\n",
      "File \u001b[1;32ml:\\Pogrammier Projekte\\FHBielefeld\\Master\\ComputerVisionPraktikum\\Milestone3\\.env\\lib\\site-packages\\pandas\\core\\frame.py:3811\u001b[0m, in \u001b[0;36mDataFrame.__getitem__\u001b[1;34m(self, key)\u001b[0m\n\u001b[0;32m   3809\u001b[0m     \u001b[39mif\u001b[39;00m is_iterator(key):\n\u001b[0;32m   3810\u001b[0m         key \u001b[39m=\u001b[39m \u001b[39mlist\u001b[39m(key)\n\u001b[1;32m-> 3811\u001b[0m     indexer \u001b[39m=\u001b[39m \u001b[39mself\u001b[39;49m\u001b[39m.\u001b[39;49mcolumns\u001b[39m.\u001b[39;49m_get_indexer_strict(key, \u001b[39m\"\u001b[39;49m\u001b[39mcolumns\u001b[39;49m\u001b[39m\"\u001b[39;49m)[\u001b[39m1\u001b[39m]\n\u001b[0;32m   3813\u001b[0m \u001b[39m# take() does not accept boolean indexers\u001b[39;00m\n\u001b[0;32m   3814\u001b[0m \u001b[39mif\u001b[39;00m \u001b[39mgetattr\u001b[39m(indexer, \u001b[39m\"\u001b[39m\u001b[39mdtype\u001b[39m\u001b[39m\"\u001b[39m, \u001b[39mNone\u001b[39;00m) \u001b[39m==\u001b[39m \u001b[39mbool\u001b[39m:\n",
      "File \u001b[1;32ml:\\Pogrammier Projekte\\FHBielefeld\\Master\\ComputerVisionPraktikum\\Milestone3\\.env\\lib\\site-packages\\pandas\\core\\indexes\\base.py:6113\u001b[0m, in \u001b[0;36mIndex._get_indexer_strict\u001b[1;34m(self, key, axis_name)\u001b[0m\n\u001b[0;32m   6110\u001b[0m \u001b[39melse\u001b[39;00m:\n\u001b[0;32m   6111\u001b[0m     keyarr, indexer, new_indexer \u001b[39m=\u001b[39m \u001b[39mself\u001b[39m\u001b[39m.\u001b[39m_reindex_non_unique(keyarr)\n\u001b[1;32m-> 6113\u001b[0m \u001b[39mself\u001b[39;49m\u001b[39m.\u001b[39;49m_raise_if_missing(keyarr, indexer, axis_name)\n\u001b[0;32m   6115\u001b[0m keyarr \u001b[39m=\u001b[39m \u001b[39mself\u001b[39m\u001b[39m.\u001b[39mtake(indexer)\n\u001b[0;32m   6116\u001b[0m \u001b[39mif\u001b[39;00m \u001b[39misinstance\u001b[39m(key, Index):\n\u001b[0;32m   6117\u001b[0m     \u001b[39m# GH 42790 - Preserve name from an Index\u001b[39;00m\n",
      "File \u001b[1;32ml:\\Pogrammier Projekte\\FHBielefeld\\Master\\ComputerVisionPraktikum\\Milestone3\\.env\\lib\\site-packages\\pandas\\core\\indexes\\base.py:6176\u001b[0m, in \u001b[0;36mIndex._raise_if_missing\u001b[1;34m(self, key, indexer, axis_name)\u001b[0m\n\u001b[0;32m   6173\u001b[0m     \u001b[39mraise\u001b[39;00m \u001b[39mKeyError\u001b[39;00m(\u001b[39mf\u001b[39m\u001b[39m\"\u001b[39m\u001b[39mNone of [\u001b[39m\u001b[39m{\u001b[39;00mkey\u001b[39m}\u001b[39;00m\u001b[39m] are in the [\u001b[39m\u001b[39m{\u001b[39;00maxis_name\u001b[39m}\u001b[39;00m\u001b[39m]\u001b[39m\u001b[39m\"\u001b[39m)\n\u001b[0;32m   6175\u001b[0m not_found \u001b[39m=\u001b[39m \u001b[39mlist\u001b[39m(ensure_index(key)[missing_mask\u001b[39m.\u001b[39mnonzero()[\u001b[39m0\u001b[39m]]\u001b[39m.\u001b[39munique())\n\u001b[1;32m-> 6176\u001b[0m \u001b[39mraise\u001b[39;00m \u001b[39mKeyError\u001b[39;00m(\u001b[39mf\u001b[39m\u001b[39m\"\u001b[39m\u001b[39m{\u001b[39;00mnot_found\u001b[39m}\u001b[39;00m\u001b[39m not in index\u001b[39m\u001b[39m\"\u001b[39m)\n",
      "\u001b[1;31mKeyError\u001b[0m: '[1, 2, 3, 4, 5] not in index'"
     ]
    }
   ],
   "source": [
    "metaData = pd.read_json(\"../data_meta/meta_all_str.json\")\n",
    "temp = pd.DataFrame(pd.get_dummies(metaData[\"Age\"]))\n",
    "temp[\"combined\"] = temp[[\"0\",\"1\",2,3,4,5,6,7,8,9,10]].values.tolist()\n",
    "metaData[\"Age\"] = temp[\"combined\"]\n",
    "# metaData[\"Age\"] = metaData[\"Age\"].astype(str)\n",
    "# metaData[\"Mask\"] = metaData[\"Mask\"].astype(str)\n",
    "# metaData[\"Face\"] = metaData[\"Face\"].astype(str)\n",
    "# filenames = tf.constant(metaData.iloc[:, 0].tolist())\n",
    "# labels = tf.constant(metaData.iloc[:, 1:].values)\n",
    "\n",
    "# dataset = tf.data.Dataset.from_tensor_slices((filenames, labels))\n",
    "\n",
    "\n",
    "# def _parse_function(filename, labels):\n",
    "#     image = tf.io.read_file(filename)\n",
    "#     image = tf.image.decode_jpeg(\n",
    "#         image, channels=3\n",
    "#     )  # Channels needed because some test images are b/w\n",
    "#     image = tf.image.resize(image, (224, 224))\n",
    "#     image.set_shape((224, 224, 3))\n",
    "#     return image, labels\n",
    "\n",
    "\n",
    "# dataset = dataset.map(_parse_function)\n",
    "\n",
    "train_generator = tf.keras.preprocessing.image.ImageDataGenerator(\n",
    "    rescale=1.0 / 255, validation_split=0.2\n",
    ")\n",
    "\n",
    "train_images = train_generator.flow_from_dataframe(\n",
    "    dataframe=metaData,\n",
    "    x_col=\"Filepath\",\n",
    "    y_col=[\"Face\", \"Mask\", \"Age\"],\n",
    "    target_size=(224, 224),\n",
    "    color_mode=\"rgb\",\n",
    "    class_mode=\"raw\",\n",
    "    batch_size=32,\n",
    "    shuffle=True,\n",
    "    seed=123,\n",
    "    subset=\"training\",\n",
    ")\n",
    "\n",
    "\n",
    "val_images = train_generator.flow_from_dataframe(\n",
    "    dataframe=metaData,\n",
    "    x_col=\"Filepath\",\n",
    "    y_col=[\"Face\", \"Mask\", \"Age\"],\n",
    "    target_size=(224, 224),\n",
    "    color_mode=\"rgb\",\n",
    "    class_mode=\"raw\",\n",
    "    batch_size=32,\n",
    "    shuffle=True,\n",
    "    seed=123,\n",
    "    subset=\"validation\",\n",
    ")\n",
    "\n",
    "model = ModelLoader().loadMobileNetV1Multi(10)\n",
    "\n",
    "model.compile(\n",
    "    optimizer=tf.keras.optimizers.Adam(),\n",
    "    loss={\n",
    "        \"out_age_prediction\": tf.keras.losses.SparseCategoricalCrossentropy(\n",
    "            ignore_class=0\n",
    "        ),\n",
    "        \"out_face_detection\": tf.keras.losses.CategoricalCrossentropy(),\n",
    "        \"out_mask_detection\": tf.keras.losses.CategoricalCrossentropy(),\n",
    "    },\n",
    "    loss_weights=[1 / 3, 1 / 3, 1 / 3],\n",
    "    metrics={\n",
    "        \"out_age_prediction\": tf.keras.metrics.Accuracy(),\n",
    "        \"out_face_detection\": tf.keras.metrics.Accuracy(),\n",
    "        \"out_mask_detection\": tf.keras.metrics.Accuracy(),\n",
    "    },\n",
    ")\n",
    "\n",
    "log_dir = \"../logs/fit/\" + buildRunName(\"MobileNet_Multi_Dropout-20\", 10, 32)\n",
    "tensorboard_callback = tf.keras.callbacks.TensorBoard(log_dir=log_dir, histogram_freq=1)\n",
    "\n",
    "history = model.fit(\n",
    "    train_images,\n",
    "    # y = {\"out_face_detection\": metaData[\"Face\"].to_numpy(),\n",
    "    #      \"out_mask_detection\": metaData[\"Mask\"].to_numpy(),\n",
    "    #      \"out_age_prediction\": metaData[\"Age\"].to_numpy()\n",
    "    # },\n",
    "    validation_data=val_images,\n",
    "    epochs=10,\n",
    "    callbacks=[tensorboard_callback],\n",
    ")\n",
    "\n",
    "model.save(\"../models/\" + buildRunName(\"MobileNet_Multi_Dropout-20\", 10, 32))\n"
   ]
  }
 ],
 "metadata": {
  "kernelspec": {
   "display_name": ".env",
   "language": "python",
   "name": "python3"
  },
  "language_info": {
   "codemirror_mode": {
    "name": "ipython",
    "version": 3
   },
   "file_extension": ".py",
   "mimetype": "text/x-python",
   "name": "python",
   "nbconvert_exporter": "python",
   "pygments_lexer": "ipython3",
   "version": "3.9.5 (tags/v3.9.5:0a7dcbd, May  3 2021, 17:27:52) [MSC v.1928 64 bit (AMD64)]"
  },
  "orig_nbformat": 4,
  "vscode": {
   "interpreter": {
    "hash": "a83c0f910dbfcbd19468ec888d5b427a34e5a43e434fc22f4c637efaf31b4d30"
   }
  }
 },
 "nbformat": 4,
 "nbformat_minor": 2
}
