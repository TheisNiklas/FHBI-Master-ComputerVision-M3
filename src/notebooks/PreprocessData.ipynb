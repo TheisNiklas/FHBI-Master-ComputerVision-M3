{
 "cells": [
  {
   "cell_type": "code",
   "execution_count": 1,
   "metadata": {},
   "outputs": [],
   "source": [
    "import tensorflow as tf\n",
    "import os\n",
    "import json"
   ]
  },
  {
   "cell_type": "code",
   "execution_count": 10,
   "metadata": {},
   "outputs": [],
   "source": [
    "walk = os.walk(\"../../data/age/\")"
   ]
  },
  {
   "cell_type": "code",
   "execution_count": 11,
   "metadata": {},
   "outputs": [
    {
     "name": "stdout",
     "output_type": "stream",
     "text": [
      "21473\n",
      "21471\n",
      "['44_1_4_20170116235150272.pg', '55_0_0_20170116232725357jpg']\n"
     ]
    }
   ],
   "source": [
    "ageList = list()\n",
    "for _, _, files in walk:\n",
    "    filteredFiles = [ fi for fi in files if fi.endswith(\".jpg\") ]\n",
    "    notfilteredFiles = [ fi for fi in files if not fi.endswith(\".jpg\") ]\n",
    "    for file in filteredFiles:\n",
    "        fileParts = file.split(\"_\")\n",
    "        ageList.append(int(fileParts[0]))"
   ]
  },
  {
   "cell_type": "code",
   "execution_count": 4,
   "metadata": {},
   "outputs": [],
   "source": [
    "f = open(\"../../data_meta/age/meta.json\", \"w\")\n",
    "f.write(json.dumps(ageList))\n",
    "f.close()"
   ]
  }
 ],
 "metadata": {
  "kernelspec": {
   "display_name": ".env",
   "language": "python",
   "name": "python3"
  },
  "language_info": {
   "codemirror_mode": {
    "name": "ipython",
    "version": 3
   },
   "file_extension": ".py",
   "mimetype": "text/x-python",
   "name": "python",
   "nbconvert_exporter": "python",
   "pygments_lexer": "ipython3",
   "version": "3.9.5"
  },
  "orig_nbformat": 4,
  "vscode": {
   "interpreter": {
    "hash": "a83c0f910dbfcbd19468ec888d5b427a34e5a43e434fc22f4c637efaf31b4d30"
   }
  }
 },
 "nbformat": 4,
 "nbformat_minor": 2
}
